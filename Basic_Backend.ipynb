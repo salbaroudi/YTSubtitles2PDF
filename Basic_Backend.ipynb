{
 "cells": [
  {
   "cell_type": "code",
   "execution_count": 1,
   "metadata": {},
   "outputs": [],
   "source": [
    "from __future__ import unicode_literals\n",
    "import youtube_dl\n",
    "import pdfkit\n",
    "\n"
   ]
  },
  {
   "cell_type": "code",
   "execution_count": 6,
   "metadata": {},
   "outputs": [
    {
     "name": "stdout",
     "output_type": "stream",
     "text": [
      "[youtube] EWeHB4qM1Hg: Downloading webpage\n",
      "[youtube] EWeHB4qM1Hg: Downloading video info webpage\n",
      "[youtube] EWeHB4qM1Hg: Looking for automatic captions\n",
      "[info] Writing video subtitles to: becoming fools _ a visit from some JWs [cc]-EWeHB4qM1Hg.en.vtt\n"
     ]
    }
   ],
   "source": [
    "class MyLogger(object):\n",
    "    def debug(self, msg):\n",
    "        print(msg)\n",
    "\n",
    "    def warning(self, msg):\n",
    "        print(msg)\n",
    "\n",
    "    def error(self, msg):\n",
    "        print(msg)\n",
    "\n",
    "\n",
    "def my_hook(d):\n",
    "    if d['status'] == 'finished':\n",
    "        print('Writing Subtitles')\n",
    "\n",
    "\n",
    "ydl_opts = {\n",
    "    'writesubtitles': \"fr\",\n",
    "    'writeautomaticsub': True,\n",
    "    'skip_download':True,\n",
    "    'logger': MyLogger(),\n",
    "    'progress_hooks': [my_hook],\n",
    "}\n",
    "with youtube_dl.YoutubeDL(ydl_opts) as ydl:\n",
    "    ydl.download(['https://www.youtube.com/watch?v=EWeHB4qM1Hg'])"
   ]
  },
  {
   "cell_type": "code",
   "execution_count": 14,
   "metadata": {},
   "outputs": [],
   "source": [
    "#Now, lets do some basic formatting of our vtt files. Open the file:\n",
    "\n",
    "subFP = open(\"./becomingfools.en.vtt\",\"r\")\n",
    "outFP = open(\"./clean.html\",\"a\")"
   ]
  },
  {
   "cell_type": "code",
   "execution_count": 15,
   "metadata": {},
   "outputs": [],
   "source": [
    "keepList = []\n",
    "for line in subFP:\n",
    "    if (\"-->\" in line) or (\"<c>\" in line):\n",
    "        continue\n",
    "    keepList.append(line)\n",
    "    \n",
    "    "
   ]
  },
  {
   "cell_type": "code",
   "execution_count": 16,
   "metadata": {},
   "outputs": [],
   "source": [
    "preString = \"<!doctype html><html lang=\\\"en\\\"><head><meta charset=\\\"utf-8\\\"><title>MyDoc</title><style type=\\\"text/css\\\">body {background-color:white;color:black;}</style></head><body>\"\n",
    "postString = \"</body></html>\"\n",
    "\n",
    "outFP.write(preString)\n",
    "concatString = \"\"\n",
    "for i, line in enumerate(keepList):\n",
    "    if line == \"\\n\":\n",
    "        continue\n",
    "    concatString = concatString + \" \" + line\n",
    "    if (i % 10 == 0):\n",
    "        outFP.write(\"<p>\" + concatString + \"</p>\")\n",
    "        concatString = \"\"        \n",
    " \n",
    "outFP.write(postString)\n",
    "outFP.close()\n",
    "subFP.close()\n"
   ]
  },
  {
   "cell_type": "code",
   "execution_count": null,
   "metadata": {},
   "outputs": [],
   "source": []
  },
  {
   "cell_type": "code",
   "execution_count": 17,
   "metadata": {},
   "outputs": [
    {
     "name": "stdout",
     "output_type": "stream",
     "text": [
      "Loading page (1/2)\n",
      "[>                                                           ] 0%\r",
      "[======>                                                     ] 10%\r",
      "[==================>                                         ] 30%\r",
      "[=============================>                              ] 49%\r",
      "[============================================================] 100%\r",
      "Printing pages (2/2)                                               \n",
      "[>                                                           ] \r",
      "Done                                                           \n"
     ]
    },
    {
     "data": {
      "text/plain": [
       "True"
      ]
     },
     "execution_count": 17,
     "metadata": {},
     "output_type": "execute_result"
    }
   ],
   "source": [
    "#Lets try converting a basic PDF, with options:\n",
    "opts = {\n",
    "    'page-size': 'A4',\n",
    "    'margin-top': '0.5in',\n",
    "    'margin-right': '2.0in',\n",
    "    'margin-bottom': '0.5in',\n",
    "    'margin-left': '2.0in',\n",
    "}\n",
    "pdfkit.from_file('clean.html', 'clean.pdf',options=opts)"
   ]
  },
  {
   "cell_type": "code",
   "execution_count": 4,
   "metadata": {},
   "outputs": [
    {
     "name": "stdout",
     "output_type": "stream",
     "text": [
      "Loading page (1/2)\n",
      "[>                                                           ] 0%\r",
      "[======>                                                     ] 10%\r",
      "[==================>                                         ] 30%\r",
      "[===================>                                        ] 32%\r",
      "[=====================>                                      ] 35%\r",
      "[======================>                                     ] 37%\r",
      "[========================>                                   ] 40%\r",
      "[========================>                                   ] 41%\r",
      "[=========================>                                  ] 43%\r",
      "[===========================>                                ] 45%\r",
      "[============================>                               ] 47%\r",
      "[=============================>                              ] 49%\r",
      "[==============================>                             ] 50%\r",
      "[==============================>                             ] 51%\r",
      "[===============================>                            ] 53%\r",
      "[=================================>                          ] 55%\r",
      "[==================================>                         ] 57%\r",
      "[===================================>                        ] 59%\r",
      "[====================================>                       ] 61%\r",
      "[=====================================>                      ] 63%\r",
      "[=======================================>                    ] 65%\r",
      "[========================================>                   ] 67%\r",
      "[=========================================>                  ] 69%\r",
      "[===========================================>                ] 72%\r",
      "[============================================>               ] 74%\r",
      "[=============================================>              ] 76%\r",
      "[==============================================>             ] 78%\r",
      "[================================================>           ] 80%\r",
      "[=================================================>          ] 82%\r",
      "[==================================================>         ] 84%\r",
      "[==================================================>         ] 84%\r",
      "[==================================================>         ] 84%\r",
      "[===================================================>        ] 86%\r",
      "[====================================================>       ] 88%\r",
      "[=====================================================>      ] 89%\r",
      "[=====================================================>      ] 89%\r",
      "[=====================================================>      ] 89%\r",
      "[=====================================================>      ] 89%\r",
      "[=====================================================>      ] 89%\r",
      "[=====================================================>      ] 89%\r",
      "[=====================================================>      ] 89%\r",
      "[============================================================] 100%\r",
      "Printing pages (2/2)                                               \n",
      "[>                                                           ] \r",
      "Done                                                           \n"
     ]
    },
    {
     "data": {
      "text/plain": [
       "True"
      ]
     },
     "execution_count": 4,
     "metadata": {},
     "output_type": "execute_result"
    }
   ],
   "source": [
    "options = {\n",
    "    'page-size': 'A4',\n",
    "    'margin-top': '0.5in',\n",
    "    'margin-right': '2.0in',\n",
    "    'margin-bottom': '0.5in',\n",
    "    'margin-left': '2.0in',\n",
    "}\n",
    "pdfkit.from_url('http://micropyramid.com', 'micro.pdf', options=options)"
   ]
  },
  {
   "cell_type": "code",
   "execution_count": null,
   "metadata": {},
   "outputs": [],
   "source": []
  },
  {
   "cell_type": "code",
   "execution_count": null,
   "metadata": {},
   "outputs": [],
   "source": []
  },
  {
   "cell_type": "code",
   "execution_count": null,
   "metadata": {},
   "outputs": [],
   "source": []
  },
  {
   "cell_type": "code",
   "execution_count": null,
   "metadata": {},
   "outputs": [],
   "source": []
  },
  {
   "cell_type": "code",
   "execution_count": null,
   "metadata": {},
   "outputs": [],
   "source": []
  }
 ],
 "metadata": {
  "kernelspec": {
   "display_name": "Python 3",
   "language": "python",
   "name": "python3"
  },
  "language_info": {
   "codemirror_mode": {
    "name": "ipython",
    "version": 3
   },
   "file_extension": ".py",
   "mimetype": "text/x-python",
   "name": "python",
   "nbconvert_exporter": "python",
   "pygments_lexer": "ipython3",
   "version": "3.7.2"
  }
 },
 "nbformat": 4,
 "nbformat_minor": 2
}
